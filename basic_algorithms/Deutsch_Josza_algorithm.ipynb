{
 "cells": [
  {
   "cell_type": "markdown",
   "metadata": {},
   "source": [
    "## Deutsch - Josza Algorithm \n",
    "\n",
    "This notebook implements the Deutsch-Josza algorithm, a quantum algorithm that checks whether a function $f$ that takes an $m$-bit input is balanced or constant, using $m+1$ qubits. This is a generalization of the Deutsch algorithm that takes a one bit input to $f$. Historically, the Deutsch algorithm is the first algorithm that demonstrates a (quantum) query complexity advantage over its classical counterpart. \n",
    "\n",
    "### Let's first consider the simpler case: Deutsch algorithm (one bit input)\n",
    "We have the function $f$ given as a black box (we do not know the exact function definition, but we are able to evaluate it, such that given an input $x$ we can retrieve $f(x)$), that takes as a input an $m$-bit sequence and a 2-dimensional output space:\n",
    "$$\n",
    "    f: \\{ 0,1\\}^m \\rightarrow \\{ 0,1\\}.\n",
    "$$\n",
    "\n",
    "With regard to query complexity, the quantum algorithm needs only one evaluation to check if the function $f$ is balanced or constant, whereas a classical algorithm has the worst case query complexity of $2^{m-1} +1 $ (note that for a binary $m$-bit string we have $2^m$ possible input strings), which is an exponential advantage. "
   ]
  },
  {
   "cell_type": "code",
   "execution_count": null,
   "metadata": {},
   "outputs": [],
   "source": [
    "#install needed packages\n",
    "!pip install qiskit --upgrade \n",
    "!pip install matplotlib\n",
    "\n",
    "import matplotlib\n",
    "from qiskit import QuantumCircuit, transpile\n",
    "#from qiskit.circuit.library import GroverOperator, MCMTGate, ZGate, MCMT, CXGate\n",
    "from qiskit.visualization import plot_histogram\n",
    "from qiskit_aer import AerSimulator"
   ]
  },
  {
   "cell_type": "markdown",
   "metadata": {},
   "source": [
    "## 1. Define the Oracle implementation for our constant (0 or 1 as example) and balanced function\n",
    "\n",
    "We prepare the quantum circuits in order to fulfill the (reversible) transformation: $| x \\rangle | y \\rangle \\rightarrow | x \\rangle | f(x) \\oplus y \\rangle$ for a constant or balanced function $f$ with $x$ being the $m$-bit input and the output being added to the $(m+1)th$ qubit."
   ]
  },
  {
   "cell_type": "code",
   "execution_count": 51,
   "metadata": {},
   "outputs": [],
   "source": [
    "def constant_0_oracle(m):\n",
    "    \"\"\"Create a constant 0 oracle for Grover's algorithm.\"\"\"\n",
    "    qc = QuantumCircuit(m+1)\n",
    "    return qc\n",
    "\n",
    "def constant_1_oracle(m):\n",
    "    \"\"\"Create a constant 1 oracle for Grover's algorithm.\"\"\"\n",
    "    qc = QuantumCircuit(m+1)\n",
    "    qc.x(m)\n",
    "    return qc\n",
    "\n",
    "def balanced_oracle(m):\n",
    "    \"\"\"Create a balanced oracle for Grover's algorithm.\"\"\"\n",
    "    qc = QuantumCircuit(m+1)\n",
    "    # variation: apply pair of X gates \n",
    "    #for i in range(m // 2): \n",
    "    #    qc.x(i)\n",
    "    # Apply Z gate to the first half of the qubits\n",
    "    for i in range(m):\n",
    "        qc.cx(i, m)\n",
    "    #for i in range(m // 2):\n",
    "    #    qc.x(i)\n",
    "    return qc"
   ]
  },
  {
   "cell_type": "code",
   "execution_count": 52,
   "metadata": {},
   "outputs": [
    {
     "data": {
      "text/html": [
       "<pre style=\"word-wrap: normal;white-space: pre;background: #fff0;line-height: 1.1;font-family: &quot;Courier New&quot;,Courier,monospace\">                         \n",
       "q_0: ──■─────────────────\n",
       "       │                 \n",
       "q_1: ──┼────■────────────\n",
       "       │    │            \n",
       "q_2: ──┼────┼────■───────\n",
       "       │    │    │       \n",
       "q_3: ──┼────┼────┼────■──\n",
       "     ┌─┴─┐┌─┴─┐┌─┴─┐┌─┴─┐\n",
       "q_4: ┤ X ├┤ X ├┤ X ├┤ X ├\n",
       "     └───┘└───┘└───┘└───┘</pre>"
      ],
      "text/plain": [
       "                         \n",
       "q_0: ──■─────────────────\n",
       "       │                 \n",
       "q_1: ──┼────■────────────\n",
       "       │    │            \n",
       "q_2: ──┼────┼────■───────\n",
       "       │    │    │       \n",
       "q_3: ──┼────┼────┼────■──\n",
       "     ┌─┴─┐┌─┴─┐┌─┴─┐┌─┴─┐\n",
       "q_4: ┤ X ├┤ X ├┤ X ├┤ X ├\n",
       "     └───┘└───┘└───┘└───┘"
      ]
     },
     "execution_count": 52,
     "metadata": {},
     "output_type": "execute_result"
    }
   ],
   "source": [
    "# let's visualize the quantum circuit for the balanced oracle\n",
    "qc = balanced_oracle(m=4)\n",
    "qc.draw()"
   ]
  },
  {
   "cell_type": "code",
   "execution_count": 53,
   "metadata": {},
   "outputs": [],
   "source": [
    "# Define the Parameters and function type (balanced or constant)\n",
    "m = 4 # number of bits of the function f -> 2^m possible inputs -> (m+1) qubits needed\n",
    "oracle = balanced_oracle # choose oracle type: constant_0_oracle, constant_1_oracle or balanced_oracle"
   ]
  },
  {
   "cell_type": "markdown",
   "metadata": {},
   "source": [
    "## 2. Prepare the Quantum Circuit for the Deutsch-Josza algorithm\n",
    "\n",
    "First, we prepare the initial state $ |0\\rangle^{m-1} |1 \\rangle$ and then apply Hadamard gates $H^{\\otimes(m+1)}$, following that, the respective oracle is applied and next, we apply $H^{m} \\otimes \\mathbb{I}$. Then we measure the first $m$ qubits and conclue wheter the function imlemented via the oracle was balanced or constant by evaluating the measurement outcome. "
   ]
  },
  {
   "cell_type": "code",
   "execution_count": 54,
   "metadata": {},
   "outputs": [
    {
     "data": {
      "text/html": [
       "<pre style=\"word-wrap: normal;white-space: pre;background: #fff0;line-height: 1.1;font-family: &quot;Courier New&quot;,Courier,monospace\">     ┌───┐      ░ ┌──────────────┐ ░ ┌───┐ ░ ┌─┐         \n",
       "q_0: ┤ H ├──────░─┤0             ├─░─┤ H ├─░─┤M├─────────\n",
       "     ├───┤      ░ │              │ ░ ├───┤ ░ └╥┘┌─┐      \n",
       "q_1: ┤ H ├──────░─┤1             ├─░─┤ H ├─░──╫─┤M├──────\n",
       "     ├───┤      ░ │              │ ░ ├───┤ ░  ║ └╥┘┌─┐   \n",
       "q_2: ┤ H ├──────░─┤2 circuit-229 ├─░─┤ H ├─░──╫──╫─┤M├───\n",
       "     ├───┤      ░ │              │ ░ ├───┤ ░  ║  ║ └╥┘┌─┐\n",
       "q_3: ┤ H ├──────░─┤3             ├─░─┤ H ├─░──╫──╫──╫─┤M├\n",
       "     ├───┤┌───┐ ░ │              │ ░ └───┘ ░  ║  ║  ║ └╥┘\n",
       "q_4: ┤ X ├┤ H ├─░─┤4             ├─░───────░──╫──╫──╫──╫─\n",
       "     └───┘└───┘ ░ └──────────────┘ ░       ░  ║  ║  ║  ║ \n",
       "c: 4/═════════════════════════════════════════╩══╩══╩══╩═\n",
       "                                              0  1  2  3 </pre>"
      ],
      "text/plain": [
       "     ┌───┐      ░ ┌──────────────┐ ░ ┌───┐ ░ ┌─┐         \n",
       "q_0: ┤ H ├──────░─┤0             ├─░─┤ H ├─░─┤M├─────────\n",
       "     ├───┤      ░ │              │ ░ ├───┤ ░ └╥┘┌─┐      \n",
       "q_1: ┤ H ├──────░─┤1             ├─░─┤ H ├─░──╫─┤M├──────\n",
       "     ├───┤      ░ │              │ ░ ├───┤ ░  ║ └╥┘┌─┐   \n",
       "q_2: ┤ H ├──────░─┤2 circuit-229 ├─░─┤ H ├─░──╫──╫─┤M├───\n",
       "     ├───┤      ░ │              │ ░ ├───┤ ░  ║  ║ └╥┘┌─┐\n",
       "q_3: ┤ H ├──────░─┤3             ├─░─┤ H ├─░──╫──╫──╫─┤M├\n",
       "     ├───┤┌───┐ ░ │              │ ░ └───┘ ░  ║  ║  ║ └╥┘\n",
       "q_4: ┤ X ├┤ H ├─░─┤4             ├─░───────░──╫──╫──╫──╫─\n",
       "     └───┘└───┘ ░ └──────────────┘ ░       ░  ║  ║  ║  ║ \n",
       "c: 4/═════════════════════════════════════════╩══╩══╩══╩═\n",
       "                                              0  1  2  3 "
      ]
     },
     "execution_count": 54,
     "metadata": {},
     "output_type": "execute_result"
    }
   ],
   "source": [
    "# define the quantum circuit of the Deutsch Josza algorithm\n",
    "qc = QuantumCircuit(m + 1, m)\n",
    "# initialize the last qubit in state |1> and first m qubits in state |0>\n",
    "qc.x(m)  # Set the last qubit to |1>\n",
    "\n",
    "# apply Hadamard gates to the first m qubits\n",
    "for i in range(m):\n",
    "    qc.h(i)\n",
    "qc.h(m)  # apply Hadamard gate to the last qubit\n",
    "qc.barrier()\n",
    "# apply the oracle\n",
    "qc_oracle = oracle(m)\n",
    "qc_oracle.to_gate(label=' Oracle')\n",
    "qc.append(qc_oracle, range(m+1))\n",
    "qc.barrier()\n",
    "# apply Hadamard gates to the first m qubits again\n",
    "for i in range(m):\n",
    "    qc.h(i)\n",
    "qc.barrier()\n",
    "# measure the first m qubits\n",
    "qc.measure(range(m), range(m))\n",
    "# visualize the circuit\n",
    "qc.draw()\n"
   ]
  },
  {
   "cell_type": "markdown",
   "metadata": {},
   "source": [
    "## 3. Simulate the quantum circuit and evaluate the simulation results\n",
    "\n",
    "Thereby, we know that if $|x\\rangle $ is $|0\\rangle$, then $f$ is constant and balanced otherwise. "
   ]
  },
  {
   "cell_type": "code",
   "execution_count": 55,
   "metadata": {},
   "outputs": [],
   "source": [
    "# define number of shots and backend for simulation \n",
    "no_shots =  1e5\n",
    "backend = AerSimulator()\n",
    "t_qc = transpile(qc, backend)\n",
    "result = backend.run(t_qc, shots=no_shots).result()\n",
    "counts = result.get_counts()\n"
   ]
  },
  {
   "cell_type": "markdown",
   "metadata": {},
   "source": [
    "Visualize the simulation results:"
   ]
  },
  {
   "cell_type": "code",
   "execution_count": 56,
   "metadata": {},
   "outputs": [
    {
     "data": {
      "image/png": "[encoded data removed]",
      "text/plain": [
       "<Figure size 1000x500 with 1 Axes>"
      ]
     },
     "execution_count": 56,
     "metadata": {},
     "output_type": "execute_result"
    }
   ],
   "source": [
    "# visualize the counts: measure all-one string for balanced function and all-zero string for constant function\n",
    "plot_histogram(counts, title='Histogram of Counts per states for Deutsch-Josza\\'s final measurement', figsize=(10, 5), bar_labels=False)"
   ]
  }
 ],
 "metadata": {
  "kernelspec": {
   "display_name": ".venv",
   "language": "python",
   "name": "python3"
  },
  "language_info": {
   "codemirror_mode": {
    "name": "ipython",
    "version": 3
   },
   "file_extension": ".py",
   "mimetype": "text/x-python",
   "name": "python",
   "nbconvert_exporter": "python",
   "pygments_lexer": "ipython3",
   "version": "3.13.1"
  }
 },
 "nbformat": 4,
 "nbformat_minor": 2
}
