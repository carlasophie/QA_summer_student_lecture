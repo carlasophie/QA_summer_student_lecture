{
 "cells": [
  {
   "cell_type": "markdown",
   "metadata": {},
   "source": [
    "## Grover's algorithm \n",
    "\n",
    "This notebook provides the basic deteails to understand **Grover's search algorithm for unstructured databases**, one of the prominent quantum algorithms with a **quadratic speed-up in computational complexity**. It leverages the fundamental principles of **quantum parallelism** through **quantum superposition** states. \n",
    "\n",
    "In this simple example, we will use $n=3$ qubits in order to demonstrate a database search over $2^n = 8$ elements. Through our oracle, we will mark one states of interest, which is being searched for during the algorithm exectution. The algorithm also works if multiple states are marked. \n",
    "\n",
    "Grover's algorithm has a **quadratic speedup in query complexity** compared to its classial counterpart, i.e., in Grover's algorithm, we need $\\mathcal{O}(\\sqrt{N})$ function evaluations to find the solution with high probability, while for a the classical worst case bound scales as $\\mathcal{O}(N)$ with $N$ being the number of elements in the unstructured database (see Grover's original work: Lov K. Grover. 1996. A fast quantum mechanical algorithm for database search.), as in the worst case, we need to evaluate $N/2 +1$ times. For further details, consult the following reference: Nielsen, Michael A., and Isaac L. Chuang. Quantum computation and quantum information. Cambridge university press, 2010."
   ]
  },
  {
   "cell_type": "code",
   "execution_count": null,
   "metadata": {},
   "outputs": [],
   "source": [
    "#install the needed packages\n",
    "!pip install qiskit --upgrade \n",
    "!pip install matplotlib\n",
    "!pip install qiskit-aer --upgrade\n",
    "!pip install --upgrade qiskit matplotlib\n",
    "\n",
    "\n",
    "import matplotlib.pyplot as plt\n",
    "import math\n",
    "from qiskit import QuantumCircuit, transpile \n",
    "from qiskit.circuit.library import GroverOperator, MCMTGate, ZGate, MCMT\n",
    "from qiskit.visualization import plot_distribution, plot_histogram\n",
    "from qiskit_aer import AerSimulator"
   ]
  },
  {
   "cell_type": "markdown",
   "metadata": {},
   "source": [
    "## 1. Prepare initial uniform superposition states of all database elements \n",
    "\n",
    "In order to leverage quantum parallelism through superposition, we first need to initialize a uniform quantum superposition states of all our $N=2^n$ database elements:\n",
    "\n",
    "$$\n",
    " |start \\rangle = H^{\\otimes n} |0\\rangle^{\\otimes n}  = \\frac{1}{\\sqrt{N}} \\sum_{j=0}^{N-1} |j\\rangle =:  |\\Psi_0 \\rangle\n",
    "\n",
    "$$\n",
    "\n",
    "with $H$ being the Hadamard gate and $|0\\rangle$ a computational basis state. \n",
    "\n",
    "Grover's algorithm has a nice geometric visualization. For this, we consider the space of solutions, i.e., our target state $|target\\rangle$ and the non-solutions $|rest\\rangle$. Both are orthogonal to each other, meanting that $ |target\\rangle \\perp |rest\\rangle$. \n",
    "\n",
    "We can then express our uniform superposition \"starting\" state $| start \\rangle $ as a linear combination of $|target\\rangle$ and $|rest\\rangle$, as they span our whole Hilbert space $\\mathcal{H}$, i.e., $|start \\rangle \\in \\{ |target \\rangle, |rest \\rangle \\} = \\mathcal{H}$:\n",
    "$$\n",
    "    | start \\rangle = \\sin (\\frac{\\theta}{2}) | target \\rangle +  \\cos (\\frac{\\theta}{2}) | rest \\rangle\n",
    "$$\n"
   ]
  },
  {
   "cell_type": "code",
   "execution_count": 25,
   "metadata": {},
   "outputs": [],
   "source": [
    "def initialize_uniform_superposition(number_of_qubits=3):\n",
    "    \"\"\"\n",
    "    Initialize a quantum circuit in a uniform superposition state.\n",
    "    This function creates a quantum circuit with the specified number of qubits,\n",
    "    applies the Walsh-Hadamard transform to each qubit, and returns the circuit.\n",
    "    Args:\n",
    "        number_of_qubits (int): The number of qubits to include in the circuit.\n",
    "                                Default is 3.\n",
    "    Returns:\n",
    "        QuantumCircuit: A quantum circuit with n=number_of_qubits qubits in uniform superposition.\n",
    "    \"\"\"\n",
    "    \n",
    "    # Create a quantum circuit with 3 qubits\n",
    "    qc = QuantumCircuit(number_of_qubits)\n",
    "    \n",
    "    # Apply Walsh-Hadamard transform to create uniform superposition\n",
    "    for i in range(number_of_qubits):\n",
    "        qc.h(i)\n",
    "    \n",
    "    return qc"
   ]
  },
  {
   "cell_type": "markdown",
   "metadata": {},
   "source": [
    "#### Let's test our function that generates the quantum circuit for our initialization of the uniform superposition state for a given number of qubits:\n",
    "We call our function ```initialize_uniform_superposition(number_of_qubits=3)``` and print the quantum circuit we defined."
   ]
  },
  {
   "cell_type": "code",
   "execution_count": 26,
   "metadata": {},
   "outputs": [
    {
     "data": {
      "text/html": [
       "<pre style=\"word-wrap: normal;white-space: pre;background: #fff0;line-height: 1.1;font-family: &quot;Courier New&quot;,Courier,monospace\">     ┌───┐\n",
       "q_0: ┤ H ├\n",
       "     ├───┤\n",
       "q_1: ┤ H ├\n",
       "     ├───┤\n",
       "q_2: ┤ H ├\n",
       "     └───┘</pre>"
      ],
      "text/plain": [
       "     ┌───┐\n",
       "q_0: ┤ H ├\n",
       "     ├───┤\n",
       "q_1: ┤ H ├\n",
       "     ├───┤\n",
       "q_2: ┤ H ├\n",
       "     └───┘"
      ]
     },
     "execution_count": 26,
     "metadata": {},
     "output_type": "execute_result"
    }
   ],
   "source": [
    "# Draw the quantum circuit\n",
    "initialize_uniform_superposition(number_of_qubits=3).draw()  "
   ]
  },
  {
   "cell_type": "markdown",
   "metadata": {},
   "source": [
    "## 2. Prepare the oracle for marking the target states\n",
    "\n",
    "In this simple example, we have one target state, e.g. $|010\\rangle$. For the case of $n=3$ we have prepared the uniform superposition state given by:\n",
    "$$\n",
    "     |\\Psi_0 \\rangle = \\frac{1}{\\sqrt{8}} (|000\\rangle + |001\\rangle + |010\\rangle + |011\\rangle + |100\\rangle + |101\\rangle + |110\\rangle + |111\\rangle)\n",
    "$$\n",
    "when applying the oracle $U_{O}$, we mark the state '010' by a phase and thus transform it to:\n",
    "$$\n",
    "     |\\Psi_1 \\rangle := \\mathcal{O} |\\Psi_0 \\rangle = \\frac{1}{\\sqrt{8}} (|000\\rangle + |001\\rangle - |010\\rangle + |011\\rangle + |100\\rangle + |101\\rangle + |110\\rangle + |111\\rangle).\n",
    "$$\n",
    "\n",
    "Geometrically, we reflect our state around the axis given by $| rest \\rangle$: \n",
    "$$\n",
    "    | start \\rangle = -\\sin (\\frac{\\theta}{2}) | target \\rangle +  \\cos (\\frac{\\theta}{2}) | rest \\rangle \\text{ and } \\theta =  2 \\arcsin (\\langle start | target \\rangle ) =  2\\arcsin \\frac{1}{\\sqrt{N}} .\n",
    "$$\n",
    "It is implemented by the following unitary $U_O =  \\mathbb{I} - 2 |target \\rangle \\langle target | $."
   ]
  },
  {
   "cell_type": "code",
   "execution_count": 27,
   "metadata": {},
   "outputs": [],
   "source": [
    "# define the states to be marked\n",
    "marked_states=['010']"
   ]
  },
  {
   "cell_type": "code",
   "execution_count": 28,
   "metadata": {},
   "outputs": [],
   "source": [
    "def grover_oracle(marked_states):\n",
    "    \"\"\"Build a Grover oracle for (multiple) marked states\n",
    "\n",
    "    All input marked states have the same number of bits\n",
    "\n",
    "    Parameters:\n",
    "        marked_states (str or list): Marked states of oracle\n",
    "\n",
    "    Returns:\n",
    "        QuantumCircuit: Quantum circuit representing Grover oracle\n",
    "    \"\"\"\n",
    "    if not isinstance(marked_states, list):\n",
    "        marked_states = [marked_states]\n",
    "    num_qubits = len(marked_states[0])\n",
    "\n",
    "    qc = QuantumCircuit(num_qubits)\n",
    "    # mark each target state in the input list\n",
    "    for target in marked_states:\n",
    "        # flip target bit-string to match Qiskit bit-ordering\n",
    "        reverse_target = target[::-1]\n",
    "        # find the indices of all the '0' elements in bit-string\n",
    "        zero_inds = [ind for ind in range(num_qubits) if reverse_target.startswith(\"0\", ind)]\n",
    "        print('zero_inds:', zero_inds)\n",
    "        # add a multi-controlled Z-gate with pre- and post-applied X-gates (open-controls)\n",
    "        # where the target bit-string has a '0' entry\n",
    "        qc.x(zero_inds)\n",
    "        qc.compose(MCMTGate(ZGate(), num_qubits - 1, 1), inplace=True)\n",
    "        qc.x(zero_inds)\n",
    "    return qc"
   ]
  },
  {
   "cell_type": "markdown",
   "metadata": {},
   "source": [
    "#### Let's test our function that generates the quantum circuit oracle for a given set of marked states (for marking those states with a phase):\n",
    "We call our function ```grover_oracle(marked_states='[010]')``` and print the quantum circuit we defined."
   ]
  },
  {
   "cell_type": "code",
   "execution_count": 29,
   "metadata": {},
   "outputs": [
    {
     "name": "stdout",
     "output_type": "stream",
     "text": [
      "zero_inds: [0, 2]\n"
     ]
    },
    {
     "data": {
      "text/html": [
       "<pre style=\"word-wrap: normal;white-space: pre;background: #fff0;line-height: 1.1;font-family: &quot;Courier New&quot;,Courier,monospace\">     ┌───┐ 1-Z ┌───┐\n",
       "q_0: ┤ X ├──■──┤ X ├\n",
       "     └───┘  │  └───┘\n",
       "q_1: ───────■───────\n",
       "     ┌───┐  │  ┌───┐\n",
       "q_2: ┤ X ├──■──┤ X ├\n",
       "     └───┘     └───┘</pre>"
      ],
      "text/plain": [
       "     ┌───┐ 1-Z ┌───┐\n",
       "q_0: ┤ X ├──■──┤ X ├\n",
       "     └───┘  │  └───┘\n",
       "q_1: ───────■───────\n",
       "     ┌───┐  │  ┌───┐\n",
       "q_2: ┤ X ├──■──┤ X ├\n",
       "     └───┘     └───┘"
      ]
     },
     "execution_count": 29,
     "metadata": {},
     "output_type": "execute_result"
    }
   ],
   "source": [
    "# Draw the quantum circuit of the oracle \n",
    "grover_oracle(marked_states=marked_states).draw()  "
   ]
  },
  {
   "cell_type": "markdown",
   "metadata": {},
   "source": [
    "## 4. Prepare one full Grover operator\n",
    "\n",
    "A single Grover iteration consists of two steps: reflection around $|rest\\rangle$ via $U_{O}$ and another reflection around $|start\\rangle$ given by the unitary $U_S = 2 | start \\rangle \\langle start | - \\mathbb{I}$, hence, our first step applied for $| \\psi_0 \\rangle $ is given by: \n",
    "$$\n",
    "    | \\psi_1 \\rangle = U_S U_O | \\psi_0 \\rangle .\n",
    "$$\n",
    "\n",
    "Geometrically, a single Grover step rotates the state vector by an angle of $\\theta = 2 \\arcsin (\\frac{1}{\\sqrt{N}})$."
   ]
  },
  {
   "cell_type": "code",
   "execution_count": 30,
   "metadata": {},
   "outputs": [
    {
     "name": "stdout",
     "output_type": "stream",
     "text": [
      "zero_inds: [0, 2]\n"
     ]
    },
    {
     "name": "stderr",
     "output_type": "stream",
     "text": [
      "/var/folders/bh/c32vdbdn1pgg1zftt17tx7540000gn/T/ipykernel_28694/3709972299.py:1: DeprecationWarning: The class ``qiskit.circuit.library.grover_operator.GroverOperator`` is deprecated as of Qiskit 2.1. It will be removed in Qiskit 3.0. Use qiskit.circuit.library.grover_operator instead.\n",
      "  grover_op = GroverOperator(oracle=grover_oracle(marked_states=marked_states), insert_barriers=True)\n"
     ]
    }
   ],
   "source": [
    "\n",
    "grover_op = GroverOperator(oracle=grover_oracle(marked_states=marked_states), insert_barriers=True)"
   ]
  },
  {
   "cell_type": "markdown",
   "metadata": {},
   "source": [
    "Let's visualize the quantum circuit of the Grover operator."
   ]
  },
  {
   "cell_type": "code",
   "execution_count": 31,
   "metadata": {},
   "outputs": [
    {
     "name": "stdout",
     "output_type": "stream",
     "text": [
      "Visualize one single circuit representing one Grover step:\n"
     ]
    },
    {
     "data": {
      "text/html": [
       "<pre style=\"word-wrap: normal;white-space: pre;background: #fff0;line-height: 1.1;font-family: &quot;Courier New&quot;,Courier,monospace\">global phase: π\n",
       "         ┌───┐ 1-Z ┌───┐ ░ ┌───┐ ░ ┌───┐          ┌───┐      ░ ┌───┐\n",
       "state_0: ┤ X ├──■──┤ X ├─░─┤ H ├─░─┤ X ├───────■──┤ X ├──────░─┤ H ├\n",
       "         └───┘  │  └───┘ ░ ├───┤ ░ ├───┤       │  ├───┤      ░ ├───┤\n",
       "state_1: ───────■────────░─┤ H ├─░─┤ X ├───────■──┤ X ├──────░─┤ H ├\n",
       "         ┌───┐  │  ┌───┐ ░ ├───┤ ░ ├───┤┌───┐┌─┴─┐├───┤┌───┐ ░ ├───┤\n",
       "state_2: ┤ X ├──■──┤ X ├─░─┤ H ├─░─┤ X ├┤ H ├┤ X ├┤ H ├┤ X ├─░─┤ H ├\n",
       "         └───┘     └───┘ ░ └───┘ ░ └───┘└───┘└───┘└───┘└───┘ ░ └───┘</pre>"
      ],
      "text/plain": [
       "global phase: π\n",
       "         ┌───┐ 1-Z ┌───┐ ░ ┌───┐ ░ ┌───┐          ┌───┐      ░ ┌───┐\n",
       "state_0: ┤ X ├──■──┤ X ├─░─┤ H ├─░─┤ X ├───────■──┤ X ├──────░─┤ H ├\n",
       "         └───┘  │  └───┘ ░ ├───┤ ░ ├───┤       │  ├───┤      ░ ├───┤\n",
       "state_1: ───────■────────░─┤ H ├─░─┤ X ├───────■──┤ X ├──────░─┤ H ├\n",
       "         ┌───┐  │  ┌───┐ ░ ├───┤ ░ ├───┤┌───┐┌─┴─┐├───┤┌───┐ ░ ├───┤\n",
       "state_2: ┤ X ├──■──┤ X ├─░─┤ H ├─░─┤ X ├┤ H ├┤ X ├┤ H ├┤ X ├─░─┤ H ├\n",
       "         └───┘     └───┘ ░ └───┘ ░ └───┘└───┘└───┘└───┘└───┘ ░ └───┘"
      ]
     },
     "execution_count": 31,
     "metadata": {},
     "output_type": "execute_result"
    }
   ],
   "source": [
    "print(\"Visualize one single circuit representing one Grover step:\")\n",
    "grover_op.decompose().draw()"
   ]
  },
  {
   "cell_type": "markdown",
   "metadata": {},
   "source": [
    "## 5. Iteratively apply the Grover Operator\n",
    "\n",
    "Now we iteratively apply Grover steps\n",
    "$$\n",
    "    | \\psi_k \\rangle = (U_S U_O)^k | \\psi_0 \\rangle  = \\sin ((2k+1) \\theta/2) | target \\rangle + \\cos ((2k+1) \\theta/2) | rest \\rangle\n",
    "$$\n",
    "and we need to find the optimal number of iterations $k$, such that:\n",
    "$$ \n",
    "  \\sin ((2k+1) \\theta/2) = \\langle target | \\psi_k \\rangle \\text{ and thus } \\frac{\\pi}{2} =  (2k+1) \\theta/2\n",
    "$$\n",
    "\n",
    "if we are searching for the unique element $| 010 \\rangle$, we have that $\\theta = 2 \\arcsin \\frac{1}{\\sqrt{N}}$. And we obtain (using $\\arcsin(x) = x + \\mathcal{O}(x^3)$):\n",
    "$$\n",
    "  k = \\lceil \\frac{\\pi}{4} \\sqrt{N} \\rceil .\n",
    "$$"
   ]
  },
  {
   "cell_type": "code",
   "execution_count": 32,
   "metadata": {},
   "outputs": [
    {
     "name": "stdout",
     "output_type": "stream",
     "text": [
      "using  2  iterations for 3  qubits and  1  marked states\n"
     ]
    }
   ],
   "source": [
    "# compute the optimal number of iterations to apply the Grover operator\n",
    "optimal_num_iterations = math.floor(math.pi / (4 * math.asin(math.sqrt(len(marked_states) / 2**grover_op.num_qubits))))\n",
    "# apply the Grover operator the optimal number of times and measure all qubits\n",
    "qc = initialize_uniform_superposition(number_of_qubits=grover_op.num_qubits)\n",
    "qc.compose(grover_op.power(optimal_num_iterations), inplace=True)\n",
    "qc.measure_all()\n",
    "print(\"using \", optimal_num_iterations, \" iterations for\", grover_op.num_qubits, \" qubits and \", len(marked_states), \" marked states\")"
   ]
  },
  {
   "cell_type": "markdown",
   "metadata": {},
   "source": [
    "## Execute a Noise-free simulation using Qiskit's Aer simulator\n",
    "\n",
    "We need to define a suitable **number of shots** for the simulation as well as a backend, in our noise-free case, we use the ```AerSimulator()``` and **transpile** our quantum circuit that we defined above. "
   ]
  },
  {
   "cell_type": "code",
   "execution_count": 33,
   "metadata": {},
   "outputs": [
    {
     "name": "stdout",
     "output_type": "stream",
     "text": [
      "Success probability of finding a marked state: 94.50 %\n"
     ]
    }
   ],
   "source": [
    "no_shots =  1e5\n",
    "backend = AerSimulator()\n",
    "t_qc = transpile(qc, backend)\n",
    "result = backend.run(t_qc, shots=no_shots).result()\n",
    "counts = result.get_counts()\n",
    "\n",
    "# Reverse bitstrings due to Qiskit's little-endian ordering\n",
    "marked_set = {state for state in marked_states}\n",
    "success_counts = sum(counts.get(state, 0) for state in marked_set)\n",
    "success_prob = (success_counts / no_shots ) * 100 \n",
    "print(f\"Success probability of finding a marked state: {success_prob:.2f} %\")"
   ]
  },
  {
   "cell_type": "markdown",
   "metadata": {},
   "source": [
    "## Let's visualize our simulation results in a histogram plot\n",
    "Consider that our (single) marked state is ```'010'```. This procedure can be also implemented for multiple marked states, so one can search for multiple elements. "
   ]
  },
  {
   "cell_type": "code",
   "execution_count": 34,
   "metadata": {},
   "outputs": [
    {
     "data": {
      "image/png": "[encoded data removed]",
      "text/plain": [
       "<Figure size 1000x500 with 1 Axes>"
      ]
     },
     "execution_count": 34,
     "metadata": {},
     "output_type": "execute_result"
    }
   ],
   "source": [
    "# visualize the counts \n",
    "plot_histogram(counts, title='Histogram of Counts per states of Grover Search', figsize=(10, 5), bar_labels=False)"
   ]
  }
 ],
 "metadata": {
  "kernelspec": {
   "display_name": ".venv",
   "language": "python",
   "name": "python3"
  },
  "language_info": {
   "codemirror_mode": {
    "name": "ipython",
    "version": 3
   },
   "file_extension": ".py",
   "mimetype": "text/x-python",
   "name": "python",
   "nbconvert_exporter": "python",
   "pygments_lexer": "ipython3",
   "version": "3.13.1"
  }
 },
 "nbformat": 4,
 "nbformat_minor": 2
}
